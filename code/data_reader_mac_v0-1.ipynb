{
 "cells": [
  {
   "cell_type": "code",
   "execution_count": 1,
   "metadata": {},
   "outputs": [
    {
     "name": "stdout",
     "output_type": "stream",
     "text": [
      "Average Signal = 642.1428571428571\n",
      "Standard Deviation = 0.9897433186107869\n"
     ]
    },
    {
     "data": {
      "image/png": "[encoded data removed]",
      "text/plain": [
       "<Figure size 432x288 with 1 Axes>"
      ]
     },
     "metadata": {
      "needs_background": "light"
     },
     "output_type": "display_data"
    }
   ],
   "source": [
    "%matplotlib inline\n",
    "import serial\n",
    "import time\n",
    "import os\n",
    "import numpy as np\n",
    "import matplotlib\n",
    "import matplotlib.pyplot as plt\n",
    "import pandas as pd\n",
    "\n",
    "# Directory you'll write your data to - you'll need to change this!\n",
    "outdir = '/Users/Joe/Desktop/python/'\n",
    "\n",
    "# Filename for your data - change this for each measurement\n",
    "name = 'test'\n",
    "\n",
    "# Number of seconds to acquire data for - bigger n = more averaging\n",
    "n = 1\n",
    "\n",
    "###########################\n",
    "# All the rest can be left alone - unless you're interested!\n",
    "###########################\n",
    "# Define some useful lists - the first is our sensor value, the second is the time the measurement took place\n",
    "s_list, t_list = [], []\n",
    "\n",
    "# Chooses the right port to speak to the Arduino\n",
    "dev = os.listdir('/dev/')\n",
    "for i in range(0,len(dev))[::-1]:\n",
    "    if 'cu.usbmodem' not in dev[i]:\n",
    "        del dev[i]\n",
    "dev = '/dev/' + dev[0]\n",
    "\n",
    "# Open a channel to our Arduino\n",
    "ser = serial.Serial(dev, 9600)\n",
    "time.sleep(1) # Give connection a second to settle\n",
    "\n",
    "# Start a timer\n",
    "t0 = time.time()   # Read system time\n",
    "t = time.time() - t0   # t=0\n",
    "\n",
    "while t < n:\n",
    "    # Read the sensor value and tidy it up - to understand what each line does\n",
    "    # type \"print(data_in)\" after each line - I've done the first one for you\n",
    "    data_in = ser.read(15)\n",
    "    data_in = str(data_in)\n",
    "    data_in = data_in.split('\\\\r\\\\n')\n",
    "    s_list.append(float(data_in[1]))  # Pick only one reading - discard the first\n",
    "\n",
    "    # Calculate time - add to the list\n",
    "    t = time.time() - t0\n",
    "    t_list.append(float(t))\n",
    "\n",
    "    # Arduino writes data faster than python reads\n",
    "    # So flush serial buffer\n",
    "    ser.flush()\n",
    "    ser.flushInput()\n",
    "    ser.flushOutput()\n",
    "  \n",
    "data_out = pd.DataFrame({'Time (s)':t_list, 'S':s_list})\n",
    "data_out.to_csv(outdir + name + '.csv', index=False)  \n",
    "\n",
    "# Print out the mean and standard deviation of the signal from your Arduino\n",
    "print('Average Signal =', np.mean(s_list))\n",
    "print('Standard Deviation =', np.std(s_list))\n",
    "\n",
    "# Draw a graph\n",
    "fs = 14\n",
    "fig = plt.figure()\n",
    "ax = fig.add_subplot(111)\n",
    "ax.scatter(t_list, s_list, c='black')\n",
    "ax.set_xlabel('Time (s)', size=fs)\n",
    "ax.set_ylabel('Sensor Reading', size=fs)\n",
    "\n",
    "# Save the graph\n",
    "plt.savefig(outdir + name + '.png', dpi=300, bbox_inches='tight')\n"
   ]
  },
  {
   "cell_type": "code",
   "execution_count": 2,
   "metadata": {},
   "outputs": [
    {
     "name": "stdout",
     "output_type": "stream",
     "text": [
      "/dev/cu.Bluetooth-Incoming-Port - n/a\n"
     ]
    }
   ],
   "source": [
    "# Extra code to check the USB ports in your system\n",
    "import serial.tools.list_ports\n",
    "ports = list(serial.tools.list_ports.comports())\n",
    "for p in ports:\n",
    "    print(p)"
   ]
  },
  {
   "cell_type": "code",
   "execution_count": null,
   "metadata": {},
   "outputs": [],
   "source": []
  }
 ],
 "metadata": {
  "kernelspec": {
   "display_name": "Python 3 (ipykernel)",
   "language": "python",
   "name": "python3"
  },
  "language_info": {
   "codemirror_mode": {
    "name": "ipython",
    "version": 3
   },
   "file_extension": ".py",
   "mimetype": "text/x-python",
   "name": "python",
   "nbconvert_exporter": "python",
   "pygments_lexer": "ipython3",
   "version": "3.9.10"
  }
 },
 "nbformat": 4,
 "nbformat_minor": 4
}
